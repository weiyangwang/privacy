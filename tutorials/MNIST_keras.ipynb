{
  "nbformat": 4,
  "nbformat_minor": 0,
  "metadata": {
    "colab": {
      "name": "TFprivacy_keras_DSSG.ipynb",
      "version": "0.3.2",
      "provenance": [],
      "collapsed_sections": [],
      "toc_visible": true
    },
    "kernelspec": {
      "name": "python3",
      "display_name": "Python 3"
    },
    "accelerator": "GPU"
  },
  "cells": [
    {
      "cell_type": "code",
      "metadata": {
        "id": "pr_1xGelyB89",
        "colab_type": "code",
        "colab": {}
      },
      "source": [
        "from __future__ import absolute_import, division, print_function, unicode_literals\n",
        "\n",
        "import os\n",
        "\n",
        "import numpy as np\n",
        "\n",
        "import matplotlib.pyplot as plt\n",
        "\n",
        "from absl import logging"
      ],
      "execution_count": 0,
      "outputs": []
    },
    {
      "cell_type": "code",
      "metadata": {
        "id": "wn001rNFyDPA",
        "colab_type": "code",
        "outputId": "fa7dbd9a-3f43-41c1-b0bb-cbfc2211f224",
        "colab": {
          "base_uri": "https://localhost:8080/",
          "height": 462
        }
      },
      "source": [
        "!pip install tensorflow-gpu==1.14.0\n",
        "import tensorflow as tf\n",
        "tf.compat.v1.disable_eager_execution()\n",
        "#tf.compat.v1.enable_eager_execution()\n",
        "print(tf.__version__)\n",
        "keras = tf.keras"
      ],
      "execution_count": 3,
      "outputs": [
        {
          "output_type": "stream",
          "text": [
            "Collecting tensorflow-gpu==1.14.0\n",
            "\u001b[?25l  Downloading https://files.pythonhosted.org/packages/76/04/43153bfdfcf6c9a4c38ecdb971ca9a75b9a791bb69a764d652c359aca504/tensorflow_gpu-1.14.0-cp36-cp36m-manylinux1_x86_64.whl (377.0MB)\n",
            "\u001b[K     |████████████████████████████████| 377.0MB 84kB/s \n",
            "\u001b[?25hRequirement already satisfied: six>=1.10.0 in /usr/local/lib/python3.6/dist-packages (from tensorflow-gpu==1.14.0) (1.12.0)\n",
            "Requirement already satisfied: protobuf>=3.6.1 in /usr/local/lib/python3.6/dist-packages (from tensorflow-gpu==1.14.0) (3.7.1)\n",
            "Requirement already satisfied: numpy<2.0,>=1.14.5 in /usr/local/lib/python3.6/dist-packages (from tensorflow-gpu==1.14.0) (1.16.4)\n",
            "Requirement already satisfied: tensorflow-estimator<1.15.0rc0,>=1.14.0rc0 in /usr/local/lib/python3.6/dist-packages (from tensorflow-gpu==1.14.0) (1.14.0)\n",
            "Requirement already satisfied: wheel>=0.26 in /usr/local/lib/python3.6/dist-packages (from tensorflow-gpu==1.14.0) (0.33.6)\n",
            "Requirement already satisfied: termcolor>=1.1.0 in /usr/local/lib/python3.6/dist-packages (from tensorflow-gpu==1.14.0) (1.1.0)\n",
            "Requirement already satisfied: keras-preprocessing>=1.0.5 in /usr/local/lib/python3.6/dist-packages (from tensorflow-gpu==1.14.0) (1.1.0)\n",
            "Requirement already satisfied: tensorboard<1.15.0,>=1.14.0 in /usr/local/lib/python3.6/dist-packages (from tensorflow-gpu==1.14.0) (1.14.0)\n",
            "Requirement already satisfied: absl-py>=0.7.0 in /usr/local/lib/python3.6/dist-packages (from tensorflow-gpu==1.14.0) (0.7.1)\n",
            "Requirement already satisfied: wrapt>=1.11.1 in /usr/local/lib/python3.6/dist-packages (from tensorflow-gpu==1.14.0) (1.11.2)\n",
            "Requirement already satisfied: google-pasta>=0.1.6 in /usr/local/lib/python3.6/dist-packages (from tensorflow-gpu==1.14.0) (0.1.7)\n",
            "Requirement already satisfied: astor>=0.6.0 in /usr/local/lib/python3.6/dist-packages (from tensorflow-gpu==1.14.0) (0.8.0)\n",
            "Requirement already satisfied: grpcio>=1.8.6 in /usr/local/lib/python3.6/dist-packages (from tensorflow-gpu==1.14.0) (1.15.0)\n",
            "Requirement already satisfied: gast>=0.2.0 in /usr/local/lib/python3.6/dist-packages (from tensorflow-gpu==1.14.0) (0.2.2)\n",
            "Requirement already satisfied: keras-applications>=1.0.6 in /usr/local/lib/python3.6/dist-packages (from tensorflow-gpu==1.14.0) (1.0.8)\n",
            "Requirement already satisfied: setuptools in /usr/local/lib/python3.6/dist-packages (from protobuf>=3.6.1->tensorflow-gpu==1.14.0) (41.2.0)\n",
            "Requirement already satisfied: werkzeug>=0.11.15 in /usr/local/lib/python3.6/dist-packages (from tensorboard<1.15.0,>=1.14.0->tensorflow-gpu==1.14.0) (0.15.5)\n",
            "Requirement already satisfied: markdown>=2.6.8 in /usr/local/lib/python3.6/dist-packages (from tensorboard<1.15.0,>=1.14.0->tensorflow-gpu==1.14.0) (3.1.1)\n",
            "Requirement already satisfied: h5py in /usr/local/lib/python3.6/dist-packages (from keras-applications>=1.0.6->tensorflow-gpu==1.14.0) (2.8.0)\n",
            "Installing collected packages: tensorflow-gpu\n",
            "Successfully installed tensorflow-gpu-1.14.0\n",
            "1.14.0\n"
          ],
          "name": "stdout"
        }
      ]
    },
    {
      "cell_type": "code",
      "metadata": {
        "id": "ti7yH0fXNyKN",
        "colab_type": "code",
        "outputId": "39834c89-e8fa-4174-e911-620ab8129fd1",
        "colab": {
          "base_uri": "https://localhost:8080/",
          "height": 34
        }
      },
      "source": [
        "!ls"
      ],
      "execution_count": 4,
      "outputs": [
        {
          "output_type": "stream",
          "text": [
            "sample_data\n"
          ],
          "name": "stdout"
        }
      ]
    },
    {
      "cell_type": "code",
      "metadata": {
        "id": "Hmo_kxY3xw8X",
        "colab_type": "code",
        "outputId": "e9bdc675-78c0-4e11-e044-0cb096f354c9",
        "colab": {
          "base_uri": "https://localhost:8080/",
          "height": 102
        }
      },
      "source": [
        "!rm -rf privacy\n",
        "!git clone https://github.com/weiyangwang/privacy"
      ],
      "execution_count": 5,
      "outputs": [
        {
          "output_type": "stream",
          "text": [
            "Cloning into 'privacy'...\n",
            "remote: Enumerating objects: 877, done.\u001b[K\n",
            "remote: Total 877 (delta 0), reused 0 (delta 0), pack-reused 877\u001b[K\n",
            "Receiving objects: 100% (877/877), 332.86 KiB | 1.18 MiB/s, done.\n",
            "Resolving deltas: 100% (554/554), done.\n"
          ],
          "name": "stdout"
        }
      ]
    },
    {
      "cell_type": "code",
      "metadata": {
        "id": "ocr3S9Q-x8Rd",
        "colab_type": "code",
        "outputId": "80b13f81-30b7-4c83-ccfb-cc6c0c309f89",
        "colab": {
          "base_uri": "https://localhost:8080/",
          "height": 34
        }
      },
      "source": [
        "!ls"
      ],
      "execution_count": 6,
      "outputs": [
        {
          "output_type": "stream",
          "text": [
            "privacy  sample_data\n"
          ],
          "name": "stdout"
        }
      ]
    },
    {
      "cell_type": "code",
      "metadata": {
        "id": "nq-b6WL0yH0q",
        "colab_type": "code",
        "outputId": "9e61f01e-f21f-4e08-94a7-3199ce87e449",
        "colab": {
          "base_uri": "https://localhost:8080/",
          "height": 136
        }
      },
      "source": [
        "%%bash\n",
        "cd privacy\n",
        "pip install -e ."
      ],
      "execution_count": 7,
      "outputs": [
        {
          "output_type": "stream",
          "text": [
            "Obtaining file:///content/privacy\n",
            "Requirement already satisfied: scipy>=0.17 in /usr/local/lib/python3.6/dist-packages (from privacy==0.0.1) (1.3.1)\n",
            "Requirement already satisfied: mpmath in /usr/local/lib/python3.6/dist-packages (from privacy==0.0.1) (1.1.0)\n",
            "Requirement already satisfied: numpy>=1.13.3 in /usr/local/lib/python3.6/dist-packages (from scipy>=0.17->privacy==0.0.1) (1.16.4)\n",
            "Installing collected packages: privacy\n",
            "  Running setup.py develop for privacy\n",
            "Successfully installed privacy\n"
          ],
          "name": "stdout"
        }
      ]
    },
    {
      "cell_type": "code",
      "metadata": {
        "id": "t7Cy9FJ-PTyX",
        "colab_type": "code",
        "colab": {}
      },
      "source": [
        "os.chdir('privacy')"
      ],
      "execution_count": 0,
      "outputs": []
    },
    {
      "cell_type": "code",
      "metadata": {
        "id": "D8OKtH-KyXf1",
        "colab_type": "code",
        "outputId": "fffbca10-521c-42fc-9742-e0ae8db6f636",
        "colab": {
          "base_uri": "https://localhost:8080/",
          "height": 326
        }
      },
      "source": [
        "from distutils.version import LooseVersion\n",
        "\n",
        "import numpy as np\n",
        "\n",
        "from privacy.analysis.rdp_accountant import compute_rdp\n",
        "from privacy.analysis.rdp_accountant import get_privacy_spent\n",
        "from privacy.optimizers.dp_optimizer import DPGradientDescentGaussianOptimizer\n",
        "\n",
        "if LooseVersion(tf.__version__) < LooseVersion('2.0.0'):\n",
        "  log = tf.logging\n",
        "  GradientDescentOptimizer = tf.train.GradientDescentOptimizer\n",
        "  #tf.enable_eager_execution()\n",
        "else:\n",
        "  log = logging\n",
        "  GradientDescentOptimizer = keras.optimizers.SGD  \n",
        "\n",
        "learning_rate = 0.15\n",
        "noise_multiplier = 1.1  #Ratio of the standard deviation to the clipping norm\n",
        "l2_norm_clip = 1.0 #Clipping norm\n",
        "batch_size = 250\n",
        "epochs = 60\n",
        "microbatches = 250\n",
        "\n",
        "log.set_verbosity(log.INFO)"
      ],
      "execution_count": 9,
      "outputs": [
        {
          "output_type": "stream",
          "text": [
            "WARNING: Logging before flag parsing goes to stderr.\n",
            "W0905 09:13:58.684431 140216468879232 lazy_loader.py:50] \n",
            "The TensorFlow contrib module will not be included in TensorFlow 2.0.\n",
            "For more information, please see:\n",
            "  * https://github.com/tensorflow/community/blob/master/rfcs/20180907-contrib-sunset.md\n",
            "  * https://github.com/tensorflow/addons\n",
            "  * https://github.com/tensorflow/io (for I/O related ops)\n",
            "If you depend on functionality not listed there, please file an issue.\n",
            "\n",
            "W0905 09:13:58.698832 140216468879232 deprecation_wrapper.py:119] From /content/privacy/privacy/optimizers/dp_optimizer.py:228: The name tf.train.AdagradOptimizer is deprecated. Please use tf.compat.v1.train.AdagradOptimizer instead.\n",
            "\n",
            "W0905 09:13:58.699695 140216468879232 deprecation_wrapper.py:119] From /content/privacy/privacy/optimizers/dp_optimizer.py:229: The name tf.train.AdamOptimizer is deprecated. Please use tf.compat.v1.train.AdamOptimizer instead.\n",
            "\n",
            "W0905 09:13:58.700414 140216468879232 deprecation_wrapper.py:119] From /content/privacy/privacy/optimizers/dp_optimizer.py:230: The name tf.train.GradientDescentOptimizer is deprecated. Please use tf.compat.v1.train.GradientDescentOptimizer instead.\n",
            "\n",
            "W0905 09:13:58.703330 140216468879232 deprecation_wrapper.py:119] From /content/privacy/privacy/optimizers/dp_optimizer.py:35: The name tf.train.Optimizer is deprecated. Please use tf.compat.v1.train.Optimizer instead.\n",
            "\n"
          ],
          "name": "stderr"
        }
      ]
    },
    {
      "cell_type": "code",
      "metadata": {
        "id": "eYOtXDau_6k_",
        "colab_type": "code",
        "colab": {}
      },
      "source": [
        "def compute_epsilon(steps):\n",
        "  \"\"\"Computes epsilon value for given hyperparameters.\"\"\"\n",
        "  if noise_multiplier == 0.0:\n",
        "    return float('inf')\n",
        "  orders = [1 + x / 10. for x in range(1, 100)] + list(range(12, 64))\n",
        "  sampling_probability = batch_size / 60000\n",
        "  rdp = compute_rdp(q=sampling_probability,\n",
        "                    noise_multiplier=noise_multiplier,\n",
        "                    steps=steps,\n",
        "                    orders=orders)\n",
        "  # Delta is set to 1e-5 because MNIST has 60000 training points.\n",
        "  return get_privacy_spent(orders, rdp, target_delta=1e-5)[0]\n"
      ],
      "execution_count": 0,
      "outputs": []
    },
    {
      "cell_type": "code",
      "metadata": {
        "id": "SOyFv-q7SbVH",
        "colab_type": "code",
        "colab": {}
      },
      "source": [
        "def load_mnist():\n",
        "  \"\"\"Loads MNIST and preprocesses to combine training and validation data.\"\"\"\n",
        "  train, test = tf.keras.datasets.mnist.load_data()\n",
        "  train_data, train_labels = train\n",
        "  test_data, test_labels = test\n",
        "\n",
        "  train_data = np.array(train_data, dtype=np.float32) / 255\n",
        "  test_data = np.array(test_data, dtype=np.float32) / 255\n",
        "\n",
        "  train_data = train_data.reshape(train_data.shape[0], 28, 28, 1)\n",
        "  test_data = test_data.reshape(test_data.shape[0], 28, 28, 1)\n",
        "\n",
        "  train_labels = np.array(train_labels, dtype=np.int32)\n",
        "  test_labels = np.array(test_labels, dtype=np.int32)\n",
        "\n",
        "  train_labels = tf.keras.utils.to_categorical(train_labels, num_classes=10)\n",
        "  test_labels = tf.keras.utils.to_categorical(test_labels, num_classes=10)\n",
        "\n",
        "  assert train_data.min() == 0.\n",
        "  assert train_data.max() == 1.\n",
        "  assert test_data.min() == 0.\n",
        "  assert test_data.max() == 1.\n",
        "\n",
        "  return train_data, train_labels, test_data, test_labels\n"
      ],
      "execution_count": 0,
      "outputs": []
    },
    {
      "cell_type": "markdown",
      "metadata": {
        "id": "NIgb-AJRXwqJ",
        "colab_type": "text"
      },
      "source": [
        "# Vanilla SGD"
      ]
    },
    {
      "cell_type": "code",
      "metadata": {
        "id": "Y2qDPX-pX1qJ",
        "colab_type": "code",
        "colab": {}
      },
      "source": [
        "# Define the model using tf.keras.layers\n",
        "mnist_model_van = tf.keras.Sequential([\n",
        "    tf.keras.layers.Conv2D(16, 8,\n",
        "                           strides=2,\n",
        "                           padding='same',\n",
        "                           activation='relu'),\n",
        "    tf.keras.layers.MaxPool2D(2, 1),\n",
        "    tf.keras.layers.Conv2D(32, 4, strides=2, activation='relu'),\n",
        "    tf.keras.layers.MaxPool2D(2, 1),\n",
        "    tf.keras.layers.Flatten(),\n",
        "    tf.keras.layers.Dense(32, activation='relu'),\n",
        "    tf.keras.layers.Dense(10)\n",
        "])"
      ],
      "execution_count": 0,
      "outputs": []
    },
    {
      "cell_type": "code",
      "metadata": {
        "id": "OGjxxrPVYBnR",
        "colab_type": "code",
        "colab": {}
      },
      "source": [
        "optimizer = GradientDescentOptimizer(learning_rate=learning_rate)\n",
        "loss = tf.keras.losses.CategoricalCrossentropy(from_logits=True)\n",
        "\n",
        "# Compile model with Keras\n",
        "mnist_model_van.compile(optimizer=optimizer, loss=loss, metrics=['accuracy'])"
      ],
      "execution_count": 0,
      "outputs": []
    },
    {
      "cell_type": "code",
      "metadata": {
        "id": "CvKo9yonYIJ8",
        "colab_type": "code",
        "outputId": "e7376815-764c-4338-f27e-441f1599e2fb",
        "colab": {
          "base_uri": "https://localhost:8080/",
          "height": 1000
        }
      },
      "source": [
        "train_data, train_labels, test_data, test_labels = load_mnist()\n",
        "\n",
        "# Train model with Keras\n",
        "history = mnist_model_van.fit(train_data, train_labels,\n",
        "          epochs=epochs,\n",
        "          validation_data=(test_data, test_labels),\n",
        "          batch_size=batch_size)\n",
        "print('Trained with vanilla non-private SGD optimizer')"
      ],
      "execution_count": 34,
      "outputs": [
        {
          "output_type": "stream",
          "text": [
            "Train on 60000 samples, validate on 10000 samples\n",
            "Epoch 1/60\n",
            "60000/60000 [==============================] - 2s 31us/sample - loss: 0.5451 - acc: 0.8266 - val_loss: 0.1348 - val_acc: 0.9579\n",
            "Epoch 2/60\n",
            "60000/60000 [==============================] - 2s 28us/sample - loss: 0.1051 - acc: 0.9667 - val_loss: 0.0771 - val_acc: 0.9741\n",
            "Epoch 3/60\n",
            "60000/60000 [==============================] - 2s 29us/sample - loss: 0.0738 - acc: 0.9773 - val_loss: 0.0667 - val_acc: 0.9781\n",
            "Epoch 4/60\n",
            "60000/60000 [==============================] - 2s 29us/sample - loss: 0.0559 - acc: 0.9831 - val_loss: 0.0459 - val_acc: 0.9841\n",
            "Epoch 5/60\n",
            "60000/60000 [==============================] - 2s 29us/sample - loss: 0.0477 - acc: 0.9854 - val_loss: 0.0388 - val_acc: 0.9871\n",
            "Epoch 6/60\n",
            "60000/60000 [==============================] - 2s 29us/sample - loss: 0.0405 - acc: 0.9878 - val_loss: 0.0581 - val_acc: 0.9824\n",
            "Epoch 7/60\n",
            "60000/60000 [==============================] - 2s 28us/sample - loss: 0.0362 - acc: 0.9891 - val_loss: 0.0370 - val_acc: 0.9881\n",
            "Epoch 8/60\n",
            "60000/60000 [==============================] - 2s 29us/sample - loss: 0.0317 - acc: 0.9899 - val_loss: 0.0295 - val_acc: 0.9907\n",
            "Epoch 9/60\n",
            "60000/60000 [==============================] - 2s 29us/sample - loss: 0.0296 - acc: 0.9911 - val_loss: 0.0401 - val_acc: 0.9860\n",
            "Epoch 10/60\n",
            "60000/60000 [==============================] - 2s 30us/sample - loss: 0.0266 - acc: 0.9919 - val_loss: 0.0317 - val_acc: 0.9891\n",
            "Epoch 11/60\n",
            "60000/60000 [==============================] - 2s 29us/sample - loss: 0.0243 - acc: 0.9926 - val_loss: 0.0289 - val_acc: 0.9907\n",
            "Epoch 12/60\n",
            "60000/60000 [==============================] - 2s 29us/sample - loss: 0.0223 - acc: 0.9930 - val_loss: 0.0288 - val_acc: 0.9908\n",
            "Epoch 13/60\n",
            "60000/60000 [==============================] - 2s 28us/sample - loss: 0.0199 - acc: 0.9938 - val_loss: 0.0325 - val_acc: 0.9899\n",
            "Epoch 14/60\n",
            "60000/60000 [==============================] - 2s 29us/sample - loss: 0.0188 - acc: 0.9942 - val_loss: 0.0340 - val_acc: 0.9883\n",
            "Epoch 15/60\n",
            "60000/60000 [==============================] - 2s 29us/sample - loss: 0.0178 - acc: 0.9945 - val_loss: 0.0307 - val_acc: 0.9902\n",
            "Epoch 16/60\n",
            "60000/60000 [==============================] - 2s 29us/sample - loss: 0.0166 - acc: 0.9949 - val_loss: 0.0310 - val_acc: 0.9906\n",
            "Epoch 17/60\n",
            "60000/60000 [==============================] - 2s 29us/sample - loss: 0.0151 - acc: 0.9951 - val_loss: 0.0330 - val_acc: 0.9894\n",
            "Epoch 18/60\n",
            "60000/60000 [==============================] - 2s 29us/sample - loss: 0.0137 - acc: 0.9961 - val_loss: 0.0300 - val_acc: 0.9911\n",
            "Epoch 19/60\n",
            "60000/60000 [==============================] - 2s 30us/sample - loss: 0.0126 - acc: 0.9962 - val_loss: 0.0313 - val_acc: 0.9904\n",
            "Epoch 20/60\n",
            "60000/60000 [==============================] - 2s 29us/sample - loss: 0.0114 - acc: 0.9970 - val_loss: 0.0307 - val_acc: 0.9898\n",
            "Epoch 21/60\n",
            "60000/60000 [==============================] - 2s 30us/sample - loss: 0.0101 - acc: 0.9972 - val_loss: 0.0324 - val_acc: 0.9908\n",
            "Epoch 22/60\n",
            "60000/60000 [==============================] - 2s 29us/sample - loss: 0.0098 - acc: 0.9974 - val_loss: 0.0289 - val_acc: 0.9908\n",
            "Epoch 23/60\n",
            "60000/60000 [==============================] - 2s 29us/sample - loss: 0.0089 - acc: 0.9977 - val_loss: 0.0263 - val_acc: 0.9914\n",
            "Epoch 24/60\n",
            "60000/60000 [==============================] - 2s 30us/sample - loss: 0.0084 - acc: 0.9976 - val_loss: 0.0316 - val_acc: 0.9914\n",
            "Epoch 25/60\n",
            "60000/60000 [==============================] - 2s 29us/sample - loss: 0.0077 - acc: 0.9980 - val_loss: 0.0272 - val_acc: 0.9912\n",
            "Epoch 26/60\n",
            "60000/60000 [==============================] - 2s 29us/sample - loss: 0.0074 - acc: 0.9979 - val_loss: 0.0285 - val_acc: 0.9916\n",
            "Epoch 27/60\n",
            "60000/60000 [==============================] - 2s 29us/sample - loss: 0.0067 - acc: 0.9983 - val_loss: 0.0313 - val_acc: 0.9916\n",
            "Epoch 28/60\n",
            "60000/60000 [==============================] - 2s 29us/sample - loss: 0.0058 - acc: 0.9987 - val_loss: 0.0312 - val_acc: 0.9906\n",
            "Epoch 29/60\n",
            "60000/60000 [==============================] - 2s 30us/sample - loss: 0.0053 - acc: 0.9988 - val_loss: 0.0299 - val_acc: 0.9910\n",
            "Epoch 30/60\n",
            "60000/60000 [==============================] - 2s 29us/sample - loss: 0.0049 - acc: 0.9990 - val_loss: 0.0278 - val_acc: 0.9924\n",
            "Epoch 31/60\n",
            "60000/60000 [==============================] - 2s 29us/sample - loss: 0.0041 - acc: 0.9993 - val_loss: 0.0300 - val_acc: 0.9915\n",
            "Epoch 32/60\n",
            "60000/60000 [==============================] - 2s 30us/sample - loss: 0.0039 - acc: 0.9992 - val_loss: 0.0321 - val_acc: 0.9912\n",
            "Epoch 33/60\n",
            "60000/60000 [==============================] - 2s 30us/sample - loss: 0.0040 - acc: 0.9991 - val_loss: 0.0324 - val_acc: 0.9908\n",
            "Epoch 34/60\n",
            "60000/60000 [==============================] - 2s 29us/sample - loss: 0.0033 - acc: 0.9995 - val_loss: 0.0311 - val_acc: 0.9917\n",
            "Epoch 35/60\n",
            "60000/60000 [==============================] - 2s 30us/sample - loss: 0.0031 - acc: 0.9994 - val_loss: 0.0318 - val_acc: 0.9915\n",
            "Epoch 36/60\n",
            "60000/60000 [==============================] - 2s 29us/sample - loss: 0.0032 - acc: 0.9992 - val_loss: 0.0309 - val_acc: 0.9920\n",
            "Epoch 37/60\n",
            "60000/60000 [==============================] - 2s 29us/sample - loss: 0.0027 - acc: 0.9995 - val_loss: 0.0321 - val_acc: 0.9916\n",
            "Epoch 38/60\n",
            "60000/60000 [==============================] - 2s 29us/sample - loss: 0.0021 - acc: 0.9997 - val_loss: 0.0332 - val_acc: 0.9914\n",
            "Epoch 39/60\n",
            "60000/60000 [==============================] - 2s 29us/sample - loss: 0.0020 - acc: 0.9996 - val_loss: 0.0348 - val_acc: 0.9912\n",
            "Epoch 40/60\n",
            "60000/60000 [==============================] - 2s 29us/sample - loss: 0.0018 - acc: 0.9998 - val_loss: 0.0334 - val_acc: 0.9916\n",
            "Epoch 41/60\n",
            "60000/60000 [==============================] - 2s 31us/sample - loss: 0.0017 - acc: 0.9997 - val_loss: 0.0349 - val_acc: 0.9915\n",
            "Epoch 42/60\n",
            "60000/60000 [==============================] - 2s 31us/sample - loss: 0.0014 - acc: 0.9998 - val_loss: 0.0336 - val_acc: 0.9917\n",
            "Epoch 43/60\n",
            "60000/60000 [==============================] - 2s 31us/sample - loss: 0.0012 - acc: 0.9999 - val_loss: 0.0327 - val_acc: 0.9915\n",
            "Epoch 44/60\n",
            "60000/60000 [==============================] - 2s 30us/sample - loss: 0.0012 - acc: 0.9998 - val_loss: 0.0341 - val_acc: 0.9918\n",
            "Epoch 45/60\n",
            "60000/60000 [==============================] - 2s 29us/sample - loss: 9.0843e-04 - acc: 0.9999 - val_loss: 0.0348 - val_acc: 0.9919\n",
            "Epoch 46/60\n",
            "60000/60000 [==============================] - 2s 29us/sample - loss: 8.9488e-04 - acc: 0.9999 - val_loss: 0.0353 - val_acc: 0.9917\n",
            "Epoch 47/60\n",
            "60000/60000 [==============================] - 2s 29us/sample - loss: 8.6652e-04 - acc: 0.9999 - val_loss: 0.0356 - val_acc: 0.9915\n",
            "Epoch 48/60\n",
            "60000/60000 [==============================] - 2s 29us/sample - loss: 8.7616e-04 - acc: 0.9999 - val_loss: 0.0360 - val_acc: 0.9918\n",
            "Epoch 49/60\n",
            "60000/60000 [==============================] - 2s 29us/sample - loss: 7.6948e-04 - acc: 1.0000 - val_loss: 0.0346 - val_acc: 0.9922\n",
            "Epoch 50/60\n",
            "60000/60000 [==============================] - 2s 30us/sample - loss: 6.8537e-04 - acc: 1.0000 - val_loss: 0.0344 - val_acc: 0.9919\n",
            "Epoch 51/60\n",
            "60000/60000 [==============================] - 2s 30us/sample - loss: 6.4488e-04 - acc: 1.0000 - val_loss: 0.0350 - val_acc: 0.9919\n",
            "Epoch 52/60\n",
            "60000/60000 [==============================] - 2s 30us/sample - loss: 6.2206e-04 - acc: 1.0000 - val_loss: 0.0353 - val_acc: 0.9916\n",
            "Epoch 53/60\n",
            "60000/60000 [==============================] - 2s 30us/sample - loss: 6.3100e-04 - acc: 0.9999 - val_loss: 0.0363 - val_acc: 0.9920\n",
            "Epoch 54/60\n",
            "60000/60000 [==============================] - 2s 30us/sample - loss: 5.3497e-04 - acc: 1.0000 - val_loss: 0.0357 - val_acc: 0.9919\n",
            "Epoch 55/60\n",
            "60000/60000 [==============================] - 2s 30us/sample - loss: 5.1064e-04 - acc: 1.0000 - val_loss: 0.0369 - val_acc: 0.9918\n",
            "Epoch 56/60\n",
            "60000/60000 [==============================] - 2s 30us/sample - loss: 4.5725e-04 - acc: 1.0000 - val_loss: 0.0379 - val_acc: 0.9919\n",
            "Epoch 57/60\n",
            "60000/60000 [==============================] - 2s 30us/sample - loss: 4.8115e-04 - acc: 1.0000 - val_loss: 0.0363 - val_acc: 0.9920\n",
            "Epoch 58/60\n",
            "60000/60000 [==============================] - 2s 29us/sample - loss: 4.2995e-04 - acc: 1.0000 - val_loss: 0.0360 - val_acc: 0.9919\n",
            "Epoch 59/60\n",
            "60000/60000 [==============================] - 2s 30us/sample - loss: 4.0980e-04 - acc: 1.0000 - val_loss: 0.0369 - val_acc: 0.9920\n",
            "Epoch 60/60\n",
            "60000/60000 [==============================] - 2s 30us/sample - loss: 3.8800e-04 - acc: 1.0000 - val_loss: 0.0376 - val_acc: 0.9917\n",
            "Trained with vanilla non-private SGD optimizer\n"
          ],
          "name": "stdout"
        }
      ]
    },
    {
      "cell_type": "code",
      "metadata": {
        "id": "RepH-kg9ETN3",
        "colab_type": "code",
        "outputId": "5023ef99-12ce-4e20-ddbe-dd2471e74045",
        "colab": {
          "base_uri": "https://localhost:8080/",
          "height": 513
        }
      },
      "source": [
        "acc = history.history['acc']\n",
        "val_acc = history.history['val_acc']\n",
        "\n",
        "loss = history.history['loss']\n",
        "val_loss = history.history['val_loss']\n",
        "\n",
        "plt.figure(figsize=(8, 8))\n",
        "plt.subplot(2, 1, 1)\n",
        "plt.plot(acc, label='Training Accuracy')\n",
        "plt.plot(val_acc, label='Validation Accuracy')\n",
        "plt.legend(loc='lower right')\n",
        "plt.ylabel('Accuracy')\n",
        "plt.ylim([min(plt.ylim()),1.0])\n",
        "plt.title('Training and Validation Accuracy')\n",
        "\n",
        "plt.subplot(2, 1, 2)\n",
        "plt.plot(loss, label='Training Loss')\n",
        "plt.plot(val_loss, label='Validation Loss')\n",
        "plt.legend(loc='upper right')\n",
        "plt.ylabel('Cross Entropy')\n",
        "plt.ylim([0,1.0])\n",
        "plt.title('Training and Validation Loss')\n",
        "plt.xlabel('epoch')\n",
        "plt.show()"
      ],
      "execution_count": 35,
      "outputs": [
        {
          "output_type": "display_data",
          "data": {
            "image/png": "[encoded data removed]",
            "text/plain": [
              "<Figure size 576x576 with 2 Axes>"
            ]
          },
          "metadata": {
            "tags": []
          }
        }
      ]
    },
    {
      "cell_type": "markdown",
      "metadata": {
        "id": "5IitE0kFSd9G",
        "colab_type": "text"
      },
      "source": [
        "# DP-SGD"
      ]
    },
    {
      "cell_type": "code",
      "metadata": {
        "id": "nuJ1uk-wYhvb",
        "colab_type": "code",
        "outputId": "dbca7739-c3ba-4baa-e84a-a384a8739132",
        "colab": {
          "base_uri": "https://localhost:8080/",
          "height": 88
        }
      },
      "source": [
        "# Define the model using tf.keras.layers\n",
        "mnist_model_dp = tf.keras.Sequential([\n",
        "    tf.keras.layers.Conv2D(16, 8,\n",
        "                           strides=2,\n",
        "                           padding='same',\n",
        "                           activation='relu'),\n",
        "    tf.keras.layers.MaxPool2D(2, 1),\n",
        "    tf.keras.layers.Conv2D(32, 4, strides=2, activation='relu'),\n",
        "    tf.keras.layers.MaxPool2D(2, 1),\n",
        "    tf.keras.layers.Flatten(),\n",
        "    tf.keras.layers.Dense(32, activation='relu'),\n",
        "    tf.keras.layers.Dense(10)\n",
        "])"
      ],
      "execution_count": 12,
      "outputs": [
        {
          "output_type": "stream",
          "text": [
            "W0905 09:13:58.754631 140216468879232 deprecation.py:506] From /usr/local/lib/python3.6/dist-packages/tensorflow/python/ops/init_ops.py:1251: calling VarianceScaling.__init__ (from tensorflow.python.ops.init_ops) with dtype is deprecated and will be removed in a future version.\n",
            "Instructions for updating:\n",
            "Call initializer instance with the dtype argument instead of passing it to the constructor\n"
          ],
          "name": "stderr"
        }
      ]
    },
    {
      "cell_type": "code",
      "metadata": {
        "id": "nZPTyUQdzCo7",
        "colab_type": "code",
        "outputId": "6462fdc5-ceea-4e17-a13d-5ed70c05ac3e",
        "colab": {
          "base_uri": "https://localhost:8080/",
          "height": 326
        }
      },
      "source": [
        "#tf.compat.v1.disable_eager_execution()\n",
        "\n",
        "print('l2_norm_clip: %f, noise_multiplier: %f, num_microbatches: %f, learning_rate: %f' \n",
        "      % (l2_norm_clip, noise_multiplier, microbatches, learning_rate))\n",
        "train_data, train_labels, test_data, test_labels = load_mnist()\n",
        "\n",
        "optimizer = DPGradientDescentGaussianOptimizer(\n",
        "      l2_norm_clip=l2_norm_clip,\n",
        "      noise_multiplier=noise_multiplier,\n",
        "      num_microbatches=microbatches,\n",
        "      learning_rate=learning_rate)\n",
        "# Compute vector of per-example loss rather than its mean over a minibatch.\n",
        "loss = tf.keras.losses.CategoricalCrossentropy(\n",
        "    from_logits=True, reduction=tf.losses.Reduction.NONE)\n",
        "\n",
        "# Compile model with Keras\n",
        "mnist_model_dp.compile(optimizer=optimizer, loss=loss, metrics=['accuracy'])\n",
        "\n",
        "# Train model with Keras\n",
        "history_dp = mnist_model_dp.fit(train_data, train_labels,\n",
        "          epochs=epochs,\n",
        "          validation_data=(test_data, test_labels),\n",
        "          batch_size=batch_size)\n",
        "\n",
        "eps = compute_epsilon(epochs * 60000 // batch_size)\n",
        "print('For delta=1e-5, the current epsilon is: %.2f' % eps)\n"
      ],
      "execution_count": 0,
      "outputs": [
        {
          "output_type": "stream",
          "text": [
            "l2_norm_clip: 1.000000, noise_multiplier: 1.100000, num_microbatches: 250.000000, learning_rate: 0.150000\n",
            "Downloading data from https://storage.googleapis.com/tensorflow/tf-keras-datasets/mnist.npz\n",
            "11493376/11490434 [==============================] - 0s 0us/step\n",
            "Train on 60000 samples, validate on 10000 samples\n"
          ],
          "name": "stdout"
        },
        {
          "output_type": "stream",
          "text": [
            "W0905 09:14:00.140654 140216468879232 deprecation.py:323] From /usr/local/lib/python3.6/dist-packages/tensorflow/python/ops/clip_ops.py:286: add_dispatch_support.<locals>.wrapper (from tensorflow.python.ops.array_ops) is deprecated and will be removed in a future version.\n",
            "Instructions for updating:\n",
            "Use tf.where in 2.0, which has the same broadcast rule as np.where\n",
            "W0905 09:14:00.171769 140216468879232 deprecation_wrapper.py:119] From /content/privacy/privacy/dp_query/gaussian_query.py:101: The name tf.random_normal is deprecated. Please use tf.random.normal instead.\n",
            "\n"
          ],
          "name": "stderr"
        },
        {
          "output_type": "stream",
          "text": [
            "Epoch 1/60\n",
            "60000/60000 [==============================] - 74s 1ms/sample - loss: 1.6108 - acc: 0.4669 - val_loss: 0.7662 - val_acc: 0.7470\n",
            "Epoch 2/60\n",
            "60000/60000 [==============================] - 69s 1ms/sample - loss: 0.5555 - acc: 0.8246 - val_loss: 0.4085 - val_acc: 0.8750\n",
            "Epoch 3/60\n",
            "60000/60000 [==============================] - 69s 1ms/sample - loss: 0.3951 - acc: 0.8869 - val_loss: 0.3562 - val_acc: 0.9022\n",
            "Epoch 4/60\n",
            " 4750/60000 [=>............................] - ETA: 1:04 - loss: 0.4029 - acc: 0.8933"
          ],
          "name": "stdout"
        }
      ]
    },
    {
      "cell_type": "code",
      "metadata": {
        "id": "pGO4cqRgEgal",
        "colab_type": "code",
        "colab": {}
      },
      "source": [
        "acc_dp = history_dp.history['acc']\n",
        "val_acc_dp = history_dp.history['val_acc']\n",
        "\n",
        "loss_dp = history_dp.history['loss']\n",
        "loss_dp = np.mean(loss_dp, axis=1)\n",
        "val_loss_dp = history_dp.history['val_loss']\n",
        "val_loss_dp = np.mean(val_loss_dp, axis=1)\n",
        "#print(len(np.mean(loss_dp, axis=1)))\n",
        "plt.figure(figsize=(8, 8))\n",
        "plt.subplot(2, 1, 1)\n",
        "plt.plot(acc_dp, label='Training Accuracy')\n",
        "plt.plot(val_acc_dp, label='Validation Accuracy')\n",
        "plt.legend(loc='lower right')\n",
        "plt.ylabel('Accuracy')\n",
        "plt.ylim([min(plt.ylim()),1.0])\n",
        "plt.title('Training and Validation Accuracy')\n",
        "\n",
        "plt.subplot(2, 1, 2)\n",
        "plt.plot(loss_dp, label='Training Loss')\n",
        "plt.plot(val_loss_dp, label='Validation Loss')\n",
        "plt.legend(loc='upper right')\n",
        "plt.ylabel('Cross Entropy')\n",
        "plt.ylim([0,3.0])\n",
        "plt.title('Training and Validation Loss')\n",
        "plt.xlabel('epoch')\n",
        "plt.show()"
      ],
      "execution_count": 0,
      "outputs": []
    },
    {
      "cell_type": "code",
      "metadata": {
        "id": "XZSEdcvL55KZ",
        "colab_type": "code",
        "outputId": "cab8d7a7-f4dd-48c9-e2b0-281b5be7cf04",
        "colab": {
          "base_uri": "https://localhost:8080/",
          "height": 71
        }
      },
      "source": [
        "mnist_model.save('mnist_dp_v1.h5')\n",
        "mnist_model_van.save('mnist_van_v1.h5')"
      ],
      "execution_count": 0,
      "outputs": [
        {
          "output_type": "stream",
          "text": [
            "W0901 08:17:58.566678 139697547024256 hdf5_format.py:110] TensorFlow optimizers do not make it possible to access optimizer attributes or optimizer state after instantiation. As a result, we cannot save the optimizer as part of the model save file. You will have to compile your model again after loading it. Prefer using a Keras optimizer instead (see keras.io/optimizers).\n",
            "W0901 08:17:58.613785 139697547024256 hdf5_format.py:110] TensorFlow optimizers do not make it possible to access optimizer attributes or optimizer state after instantiation. As a result, we cannot save the optimizer as part of the model save file. You will have to compile your model again after loading it. Prefer using a Keras optimizer instead (see keras.io/optimizers).\n"
          ],
          "name": "stderr"
        }
      ]
    },
    {
      "cell_type": "code",
      "metadata": {
        "id": "ApX1Di5g5wAg",
        "colab_type": "code",
        "outputId": "1a8a748f-9223-4cca-aef5-9901d8591afd",
        "colab": {
          "base_uri": "https://localhost:8080/",
          "height": 68
        }
      },
      "source": [
        "!ls"
      ],
      "execution_count": 0,
      "outputs": [
        {
          "output_type": "stream",
          "text": [
            "CONTRIBUTING.md  mnist_van_v1.h5   README.md\t     setup.py\n",
            "LICENSE\t\t privacy\t   requirements.txt  tutorials\n",
            "mnist_dp_v1.h5\t privacy.egg-info  research\n"
          ],
          "name": "stdout"
        }
      ]
    },
    {
      "cell_type": "markdown",
      "metadata": {
        "id": "NjoD43pB6-3G",
        "colab_type": "text"
      },
      "source": [
        "#Exploring the models"
      ]
    },
    {
      "cell_type": "markdown",
      "metadata": {
        "id": "CEYyggC-7cxd",
        "colab_type": "text"
      },
      "source": [
        "Loading up pretrained models..."
      ]
    },
    {
      "cell_type": "code",
      "metadata": {
        "id": "Kw9I6atX04KQ",
        "colab_type": "code",
        "outputId": "1fc49786-f039-4234-994b-4ebad35c4acc",
        "colab": {
          "base_uri": "https://localhost:8080/",
          "height": 105
        }
      },
      "source": [
        "mnist_model_van = tf.keras.models.load_model(\"mnist_van_v1.h5\")\n",
        "mnist_model_dp = tf.keras.models.load_model(\"mnist_dp_v1.h5\")\n",
        "\n",
        "train_data, train_labels, test_data, test_labels = load_mnist()"
      ],
      "execution_count": 6,
      "outputs": [
        {
          "output_type": "stream",
          "text": [
            "W0905 05:10:18.516639 140267049281408 hdf5_format.py:221] No training configuration found in save file: the model was *not* compiled. Compile it manually.\n",
            "W0905 05:10:18.786172 140267049281408 hdf5_format.py:221] No training configuration found in save file: the model was *not* compiled. Compile it manually.\n"
          ],
          "name": "stderr"
        },
        {
          "output_type": "stream",
          "text": [
            "Downloading data from https://storage.googleapis.com/tensorflow/tf-keras-datasets/mnist.npz\n",
            "11493376/11490434 [==============================] - 0s 0us/step\n"
          ],
          "name": "stdout"
        }
      ]
    },
    {
      "cell_type": "markdown",
      "metadata": {
        "id": "cVP_pgV_7qN2",
        "colab_type": "text"
      },
      "source": [
        "Filtering list of images where both vanilla model and DP model **predict correctly**"
      ]
    },
    {
      "cell_type": "code",
      "metadata": {
        "id": "MnB44oyt3fsD",
        "colab_type": "code",
        "colab": {}
      },
      "source": [
        "correct = []\n",
        "j=0\n",
        "for i, im in enumerate(train_data):\n",
        "  if j==rows*columns: break\n",
        "  im = np.array([im])\n",
        "  if (np.argmax(mnist_model_dp.predict(im)) == np.argmax(train_labels[i])) and \\\n",
        "  (np.argmax(mnist_model_van.predict(im)) == np.argmax(train_labels[i])):\n",
        "    j += 1\n",
        "    correct.append((np.argmax(train_labels[i]), im))"
      ],
      "execution_count": 0,
      "outputs": []
    },
    {
      "cell_type": "code",
      "metadata": {
        "id": "lqmVS5VgaKTr",
        "colab_type": "code",
        "colab": {
          "base_uri": "https://localhost:8080/",
          "height": 889
        },
        "outputId": "a119a91c-ad1e-46e6-82f8-e2db43855c4e"
      },
      "source": [
        "correct.sort(key=lambda tup: tup[0])\n",
        "fig = plt.figure(figsize=(15, 15))\n",
        "columns = 5\n",
        "rows = 5\n",
        "for i, (l, im) in enumerate(correct):\n",
        "  ax = fig.add_subplot(rows, columns, i+1)\n",
        "  ax.set_title(\"\\nLab: \" + str(l), loc='left', size=20)\n",
        "  ax.get_xaxis().set_visible(False)\n",
        "  ax.get_yaxis().set_visible(False)\n",
        "  plt.imshow(im[0][:,:,0])\n",
        "plt.show()"
      ],
      "execution_count": 14,
      "outputs": [
        {
          "output_type": "display_data",
          "data": {
            "image/png": "[encoded data removed]",
            "text/plain": [
              "<Figure size 1080x1080 with 25 Axes>"
            ]
          },
          "metadata": {
            "tags": []
          }
        }
      ]
    },
    {
      "cell_type": "markdown",
      "metadata": {
        "id": "pDwP4FIa78uQ",
        "colab_type": "text"
      },
      "source": [
        "Filtering for list of images where vanilla model predicted correctly but **DP model predicted wrongly**"
      ]
    },
    {
      "cell_type": "code",
      "metadata": {
        "id": "EDgia8jg2bGq",
        "colab_type": "code",
        "colab": {}
      },
      "source": [
        "mispredicted = []\n",
        "j=0\n",
        "for i, im in enumerate(train_data):\n",
        "  if j==rows*columns: break\n",
        "  im = np.array([im])\n",
        "  if (np.argmax(mnist_model_dp.predict(im)) != np.argmax(train_labels[i])) and \\\n",
        "  (np.argmax(mnist_model_van.predict(im)) == np.argmax(train_labels[i])):\n",
        "    j += 1\n",
        "    mispredicted.append((np.argmax(train_labels[i]), np.argmax(mnist_model_dp.predict(im)), im))"
      ],
      "execution_count": 0,
      "outputs": []
    },
    {
      "cell_type": "code",
      "metadata": {
        "id": "kAvPQvdi4LBO",
        "colab_type": "code",
        "colab": {
          "base_uri": "https://localhost:8080/",
          "height": 867
        },
        "outputId": "d6cee4bc-b355-497d-d64e-94729cc8b300"
      },
      "source": [
        "mispredicted.sort(key=lambda tup: tup[0])\n",
        "fig = plt.figure(figsize=(15, 15))\n",
        "columns = 5\n",
        "rows = 5\n",
        "for i, (l, dp, im) in enumerate(mispredicted):\n",
        "  ax = fig.add_subplot(rows, columns, i+1)\n",
        "  ax.set_title(\"Lab: \" + str(l) + \"  DP: \" + str(dp), \n",
        "               loc='left', size=20)\n",
        "  ax.get_xaxis().set_visible(False)\n",
        "  ax.get_yaxis().set_visible(False)\n",
        "  plt.imshow(im[0][:,:,0])\n",
        "plt.show()"
      ],
      "execution_count": 19,
      "outputs": [
        {
          "output_type": "display_data",
          "data": {
            "image/png": "[encoded data removed]",
            "text/plain": [
              "<Figure size 1080x1080 with 25 Axes>"
            ]
          },
          "metadata": {
            "tags": []
          }
        }
      ]
    },
    {
      "cell_type": "code",
      "metadata": {
        "id": "Rc_VU-uR8w3C",
        "colab_type": "code",
        "colab": {}
      },
      "source": [
        ""
      ],
      "execution_count": 0,
      "outputs": []
    }
  ]
}